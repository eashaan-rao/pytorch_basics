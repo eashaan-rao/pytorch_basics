{
 "cells": [
  {
   "cell_type": "markdown",
   "id": "00579fc8",
   "metadata": {},
   "source": [
    "# Build the Neural Network"
   ]
  },
  {
   "cell_type": "markdown",
   "id": "3cf49df1",
   "metadata": {},
   "source": [
    "Neural networks comprise of layers/modules that perform operations on data. The `torch.nn` namespace provides all the building blocks needed to build our own neural network. Every module in PyTorch subclasses the `nn.Module`. A neural network is a module itself that consists of other modules (layers). This nested structure allows for building and managing complext architectures easily. Here we will build a neural network to classify images in the FashionMNIST dataset."
   ]
  },
  {
   "cell_type": "code",
   "execution_count": 1,
   "id": "9bfaded9",
   "metadata": {},
   "outputs": [],
   "source": [
    "import os\n",
    "import torch\n",
    "from torch import nn\n",
    "from torch.utils.data import DataLoader\n",
    "from torchvision import datasets, transforms"
   ]
  },
  {
   "cell_type": "code",
   "execution_count": 2,
   "id": "4dc38e06",
   "metadata": {},
   "outputs": [
    {
     "name": "stdout",
     "output_type": "stream",
     "text": [
      "Using cuda device\n"
     ]
    }
   ],
   "source": [
    "# Get device for training: if the accelerator such as (CUDA, MPS, MTIA, XPU) is available we will use it, \n",
    "# otherwise we use the CPU.\n",
    "device = torch.accelerator.current_accelerator().type if torch.accelerator.is_available() else \"cpu\"\n",
    "print(f\"Using {device} device\")"
   ]
  },
  {
   "cell_type": "markdown",
   "id": "c5b2483f",
   "metadata": {},
   "source": [
    "## Define the class\n",
    "We define our neural network by subclassing `nn.Module`, and initialize the neural network layers in `__init__`. Every `nn.Module` subclass implements the operations on input data in the `forward` method."
   ]
  },
  {
   "cell_type": "code",
   "execution_count": 3,
   "id": "d52d0787",
   "metadata": {},
   "outputs": [],
   "source": [
    "class NeuralNetwork(nn.Module):\n",
    "    def __init__(self):\n",
    "        super().__init__()\n",
    "        self.flatten = nn.Flatten()\n",
    "        self.linear_relu_stack = nn.Sequential(\n",
    "            nn.Linear(28*28, 512),\n",
    "            nn.ReLU(),\n",
    "            nn.Linear(512, 512),\n",
    "            nn.ReLU(),\n",
    "            nn.Linear(512, 10),\n",
    "        )\n",
    "    \n",
    "    def forward(self, x):\n",
    "        x = self.flatten(x)\n",
    "        logits = self.linear_relu_stack(x)\n",
    "        return logits"
   ]
  },
  {
   "cell_type": "code",
   "execution_count": 4,
   "id": "abb1cb80",
   "metadata": {},
   "outputs": [
    {
     "name": "stdout",
     "output_type": "stream",
     "text": [
      "NeuralNetwork(\n",
      "  (flatten): Flatten(start_dim=1, end_dim=-1)\n",
      "  (linear_relu_stack): Sequential(\n",
      "    (0): Linear(in_features=784, out_features=512, bias=True)\n",
      "    (1): ReLU()\n",
      "    (2): Linear(in_features=512, out_features=512, bias=True)\n",
      "    (3): ReLU()\n",
      "    (4): Linear(in_features=512, out_features=10, bias=True)\n",
      "  )\n",
      ")\n"
     ]
    }
   ],
   "source": [
    "# We can create an instance of NeuralNetwork, and move it to the device, and print its structure\n",
    "\n",
    "model = NeuralNetwork().to(device)\n",
    "print(model)"
   ]
  },
  {
   "cell_type": "markdown",
   "id": "50668092",
   "metadata": {},
   "source": [
    "To use the model, we pass the input data to the NeuralNetwork object directly. This executes the model's `forward`, along with some background operations, we don't call `model.forward()` directly!\n",
    "\n",
    "Calling the model on the input returns a 2-dimensional tensor with dim=0 corresponding to each output of 10 raw predicted values for each class, and dim=1 corresponding to the individual values of each output. We get the prediction probabilities by passing it through an instance of the nn.Softmax module.\n",
    "*(Translation: The model outputs a 2-dimensional tensor. dim=0, which you can consider as rows, contains output for different inputs. So if you have 8 images as input, the model generates corresponding predictions for each of those 8 images. dim=1, which represents columns, contains the raw predicted values for each class. Since there are 10 classes, each image will have 10 values. These values are then passed through an instance of nn.Softmax, converting them into prediction probabilities)* "
   ]
  },
  {
   "cell_type": "code",
   "execution_count": 6,
   "id": "61748f12",
   "metadata": {},
   "outputs": [
    {
     "name": "stdout",
     "output_type": "stream",
     "text": [
      "tensor([[-0.0378, -0.0070,  0.0231,  0.0181, -0.0485, -0.0481,  0.0624,  0.0101,\n",
      "         -0.0637,  0.0716]], device='cuda:0', grad_fn=<AddmmBackward0>)\n",
      "tensor([[0.0964, 0.0994, 0.1024, 0.1019, 0.0954, 0.0954, 0.1065, 0.1011, 0.0939,\n",
      "         0.1075]], device='cuda:0', grad_fn=<SoftmaxBackward0>)\n",
      "Predicted class: tensor([9], device='cuda:0')\n"
     ]
    }
   ],
   "source": [
    "X = torch.rand(1, 28, 28, device=device) # random image created of 28 * 28 value\n",
    "logits = model(X)\n",
    "print(logits)\n",
    "pred_probab = nn.Softmax(dim=1)(logits)\n",
    "print(pred_probab)\n",
    "y_pred = pred_probab.argmax(1)\n",
    "print(f\"Predicted class: {y_pred}\")"
   ]
  },
  {
   "cell_type": "markdown",
   "id": "34c13f02",
   "metadata": {},
   "source": [
    "## Model Layers\n",
    "\n",
    "We will manually pass some random image values through the created neural network model and see how it will work.\n",
    "\n",
    "Let’s break down the layers in the FashionMNIST model. To illustrate it, we will take a sample minibatch of 3 images of size 28x28 and see what happens to it as we pass it through the network."
   ]
  },
  {
   "cell_type": "code",
   "execution_count": 7,
   "id": "af18929e",
   "metadata": {},
   "outputs": [
    {
     "name": "stdout",
     "output_type": "stream",
     "text": [
      "torch.Size([3, 28, 28])\n"
     ]
    }
   ],
   "source": [
    "input_image = torch.rand(3, 28, 28)\n",
    "print(input_image.size())"
   ]
  },
  {
   "cell_type": "markdown",
   "id": "7c8651bd",
   "metadata": {},
   "source": [
    "### nn.Flatten\n",
    "We initialize the `nn.Flatten` layer to convert each 2D 28*28 image into a contiguous array of 784 pixel values (the minibatch dimension (at dim=0) is maintained)"
   ]
  },
  {
   "cell_type": "code",
   "execution_count": 8,
   "id": "32b1684d",
   "metadata": {},
   "outputs": [
    {
     "name": "stdout",
     "output_type": "stream",
     "text": [
      "torch.Size([3, 784])\n"
     ]
    }
   ],
   "source": [
    "flatten = nn.Flatten()\n",
    "flat_image = flatten(input_image)\n",
    "print(flat_image.size())"
   ]
  },
  {
   "cell_type": "markdown",
   "id": "95298947",
   "metadata": {},
   "source": [
    "### nn.Linear\n",
    "The linear layer is a module that applies a linear transformation on the input using its stored weights and biases."
   ]
  },
  {
   "cell_type": "code",
   "execution_count": 9,
   "id": "a474630a",
   "metadata": {},
   "outputs": [
    {
     "name": "stdout",
     "output_type": "stream",
     "text": [
      "torch.Size([3, 20])\n"
     ]
    }
   ],
   "source": [
    "layer1 = nn.Linear(in_features=28*28, out_features=20)\n",
    "hidden1 = layer1(flat_image)\n",
    "print(hidden1.size())"
   ]
  },
  {
   "cell_type": "markdown",
   "id": "7b013f41",
   "metadata": {},
   "source": [
    "### nn.ReLU\n",
    "Non-linear activations are what create the complex mappings between the model's inputs and outputs. They are applied after linear transformations to introduce *nonlinearity*, helping neural networks learn a wide variety of phenomena. In this model, we are using `nn.ReLU` between our linear layers, but there's other activations to introduce non-linearity in your model."
   ]
  },
  {
   "cell_type": "code",
   "execution_count": 10,
   "id": "881a6711",
   "metadata": {},
   "outputs": [
    {
     "name": "stdout",
     "output_type": "stream",
     "text": [
      "Before ReLU: tensor([[-2.9018e-01,  1.4587e-02,  9.4504e-01, -2.3928e-01, -2.2437e-01,\n",
      "          1.3890e-02,  2.0329e-01, -3.5941e-01, -4.7915e-01, -8.9112e-02,\n",
      "          4.0512e-01,  2.0875e-01,  1.3018e-01,  6.4789e-01, -4.2096e-01,\n",
      "         -3.7672e-01,  2.2942e-01,  2.8721e-01, -2.4472e-01,  8.3244e-01],\n",
      "        [-3.5877e-01,  1.8331e-01,  8.6834e-01,  7.7511e-02, -2.4233e-01,\n",
      "          2.3676e-01, -9.1214e-02, -4.0245e-01, -5.3652e-02, -4.0773e-02,\n",
      "          3.3369e-01, -1.8694e-01, -2.0394e-01,  4.3379e-01,  9.8646e-02,\n",
      "         -3.6620e-02, -1.1547e-01,  2.3175e-01,  4.4620e-02,  5.0796e-01],\n",
      "        [-3.6350e-01,  1.3775e-01,  9.7806e-01,  1.9604e-02,  1.6640e-01,\n",
      "          9.1765e-02,  4.6270e-02, -2.0042e-01, -2.2890e-01,  2.1084e-01,\n",
      "          5.0171e-01,  1.3631e-02, -1.3999e-01,  5.5846e-01, -2.1052e-01,\n",
      "         -5.1434e-04,  3.3337e-01,  2.3563e-02, -2.1060e-02,  5.3515e-01]],\n",
      "       grad_fn=<AddmmBackward0>)\n",
      "\n",
      "\n",
      "After ReLU: tensor([[0.0000, 0.0146, 0.9450, 0.0000, 0.0000, 0.0139, 0.2033, 0.0000, 0.0000,\n",
      "         0.0000, 0.4051, 0.2088, 0.1302, 0.6479, 0.0000, 0.0000, 0.2294, 0.2872,\n",
      "         0.0000, 0.8324],\n",
      "        [0.0000, 0.1833, 0.8683, 0.0775, 0.0000, 0.2368, 0.0000, 0.0000, 0.0000,\n",
      "         0.0000, 0.3337, 0.0000, 0.0000, 0.4338, 0.0986, 0.0000, 0.0000, 0.2318,\n",
      "         0.0446, 0.5080],\n",
      "        [0.0000, 0.1377, 0.9781, 0.0196, 0.1664, 0.0918, 0.0463, 0.0000, 0.0000,\n",
      "         0.2108, 0.5017, 0.0136, 0.0000, 0.5585, 0.0000, 0.0000, 0.3334, 0.0236,\n",
      "         0.0000, 0.5351]], grad_fn=<ReluBackward0>)\n"
     ]
    }
   ],
   "source": [
    "print(f\"Before ReLU: {hidden1}\\n\\n\")\n",
    "hidden1 = nn.ReLU()(hidden1)\n",
    "print(f\"After ReLU: {hidden1}\")"
   ]
  },
  {
   "cell_type": "markdown",
   "id": "dc963e28",
   "metadata": {},
   "source": [
    "### nn.Sequential\n",
    "`nn.Sequential` is an ordered container of modules. The data is passed through all the modules in the same order as defined. You can use sequential containers to put together a quick network like *seq_module*. "
   ]
  },
  {
   "cell_type": "code",
   "execution_count": 12,
   "id": "6f018ef9",
   "metadata": {},
   "outputs": [
    {
     "name": "stdout",
     "output_type": "stream",
     "text": [
      "tensor([[-0.1132, -0.4159, -0.1520,  0.2325,  0.1479, -0.1300,  0.1172,  0.0888,\n",
      "          0.2399,  0.1993],\n",
      "        [-0.2145, -0.5023, -0.1036,  0.2922, -0.0317, -0.1754,  0.1467,  0.0078,\n",
      "          0.1521,  0.1922],\n",
      "        [-0.1821, -0.4848, -0.0367,  0.1924,  0.0858, -0.0822,  0.0804,  0.0683,\n",
      "          0.3049,  0.2761]], grad_fn=<AddmmBackward0>)\n"
     ]
    }
   ],
   "source": [
    "seq_modules = nn.Sequential(\n",
    "    flatten,\n",
    "    layer1,\n",
    "    nn.ReLU(),\n",
    "    nn.Linear(20,10)\n",
    ")\n",
    "input_image = torch.rand(3, 28, 28)\n",
    "logits = seq_modules(input_image)\n",
    "print(logits)"
   ]
  },
  {
   "cell_type": "markdown",
   "id": "6f97e340",
   "metadata": {},
   "source": [
    "### nn.Softmax\n",
    "The last linear layer of the neural network returns *logits* - raw values in [-infty, infty] - which are passed to the `nn.Softmax` module. The logits are scaled to values [0, 1] representing the model's predicted probabilities for each class. **dim** parameter indicates the dimesion along which the values must sum to 1."
   ]
  },
  {
   "cell_type": "code",
   "execution_count": 14,
   "id": "d991cad7",
   "metadata": {},
   "outputs": [
    {
     "name": "stdout",
     "output_type": "stream",
     "text": [
      "tensor([[0.0857, 0.0633, 0.0824, 0.1211, 0.1113, 0.0843, 0.1079, 0.1049, 0.1220,\n",
      "         0.1171],\n",
      "        [0.0807, 0.0605, 0.0901, 0.1339, 0.0969, 0.0839, 0.1158, 0.1007, 0.1164,\n",
      "         0.1212],\n",
      "        [0.0797, 0.0588, 0.0921, 0.1158, 0.1041, 0.0880, 0.1036, 0.1023, 0.1296,\n",
      "         0.1259]], grad_fn=<SoftmaxBackward0>)\n"
     ]
    }
   ],
   "source": [
    "softmax = nn.Softmax(dim=1)\n",
    "pred_probab = softmax(logits)\n",
    "print(pred_probab)"
   ]
  },
  {
   "cell_type": "markdown",
   "id": "64683c32",
   "metadata": {},
   "source": [
    "## Model Parameters\n",
    "Many layers inside a neural network are *parameterized*, i.e., have associated weights and biases that are optimized during training. Subclassing `nn.Module` automatically tracks all fields defined inside your model object, and makes all parameters accessible using our model's *parameters()* or *named_parameters()* methods.\n",
    "\n",
    "Below we will iterate over each parameter, and print its size and a preview of its values."
   ]
  },
  {
   "cell_type": "code",
   "execution_count": 15,
   "id": "98eeb349",
   "metadata": {},
   "outputs": [
    {
     "name": "stdout",
     "output_type": "stream",
     "text": [
      "Model Structure: NeuralNetwork(\n",
      "  (flatten): Flatten(start_dim=1, end_dim=-1)\n",
      "  (linear_relu_stack): Sequential(\n",
      "    (0): Linear(in_features=784, out_features=512, bias=True)\n",
      "    (1): ReLU()\n",
      "    (2): Linear(in_features=512, out_features=512, bias=True)\n",
      "    (3): ReLU()\n",
      "    (4): Linear(in_features=512, out_features=10, bias=True)\n",
      "  )\n",
      ")\n",
      "\n",
      "\n",
      "Layer: linear_relu_stack.0.weight | Size: torch.Size([512, 784]) | Values: tensor([[ 0.0342, -0.0212,  0.0278,  ...,  0.0198, -0.0158, -0.0201],\n",
      "        [-0.0220,  0.0036,  0.0032,  ...,  0.0294,  0.0310,  0.0091]],\n",
      "       device='cuda:0', grad_fn=<SliceBackward0>) \n",
      "\n",
      "Layer: linear_relu_stack.0.bias | Size: torch.Size([512]) | Values: tensor([-0.0276,  0.0329], device='cuda:0', grad_fn=<SliceBackward0>) \n",
      "\n",
      "Layer: linear_relu_stack.2.weight | Size: torch.Size([512, 512]) | Values: tensor([[-0.0301, -0.0210,  0.0049,  ...,  0.0387,  0.0208,  0.0040],\n",
      "        [-0.0096, -0.0310, -0.0145,  ..., -0.0198, -0.0064,  0.0364]],\n",
      "       device='cuda:0', grad_fn=<SliceBackward0>) \n",
      "\n",
      "Layer: linear_relu_stack.2.bias | Size: torch.Size([512]) | Values: tensor([-0.0034, -0.0140], device='cuda:0', grad_fn=<SliceBackward0>) \n",
      "\n",
      "Layer: linear_relu_stack.4.weight | Size: torch.Size([10, 512]) | Values: tensor([[ 0.0358, -0.0376,  0.0239,  ..., -0.0292,  0.0033,  0.0029],\n",
      "        [-0.0404,  0.0007,  0.0206,  ...,  0.0010, -0.0235,  0.0119]],\n",
      "       device='cuda:0', grad_fn=<SliceBackward0>) \n",
      "\n",
      "Layer: linear_relu_stack.4.bias | Size: torch.Size([10]) | Values: tensor([ 0.0181, -0.0088], device='cuda:0', grad_fn=<SliceBackward0>) \n",
      "\n"
     ]
    }
   ],
   "source": [
    "print(f\"Model Structure: {model}\\n\\n\")\n",
    "\n",
    "for name, param in model.named_parameters():\n",
    "    print(f\"Layer: {name} | Size: {param.size()} | Values: {param[:2]} \\n\")"
   ]
  },
  {
   "cell_type": "code",
   "execution_count": null,
   "id": "dfaa9774",
   "metadata": {},
   "outputs": [],
   "source": []
  }
 ],
 "metadata": {
  "kernelspec": {
   "display_name": "cvenv",
   "language": "python",
   "name": "python3"
  },
  "language_info": {
   "codemirror_mode": {
    "name": "ipython",
    "version": 3
   },
   "file_extension": ".py",
   "mimetype": "text/x-python",
   "name": "python",
   "nbconvert_exporter": "python",
   "pygments_lexer": "ipython3",
   "version": "3.12.3"
  }
 },
 "nbformat": 4,
 "nbformat_minor": 5
}
